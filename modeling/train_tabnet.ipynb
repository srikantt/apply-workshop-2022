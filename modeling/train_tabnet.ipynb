{
 "cells": [
  {
   "cell_type": "code",
   "execution_count": 1,
   "metadata": {
    "jupyter": {
     "source_hidden": true
    }
   },
   "outputs": [
    {
     "name": "stdout",
     "output_type": "stream",
     "text": [
      "Version: 99.99.99\n",
      "Git Commit: 11e51bc73fa38baf0f86660959ced57e415ec010\n",
      "Build Datetime: 2022-05-04T21:29:38\n"
     ]
    }
   ],
   "source": [
    "# Import Tecton and other libraries\n",
    "import logging\n",
    "import os\n",
    "import tecton\n",
    "from dotenv import load_dotenv\n",
    "import pandas as pd\n",
    "import snowflake.connector\n",
    "from datetime import datetime, timedelta\n",
    "from pprint import pprint\n",
    "\n",
    "load_dotenv()  # take environment variables from .env.\n",
    "logging.getLogger('snowflake.connector').setLevel(logging.WARNING)\n",
    "logging.getLogger('snowflake.snowpark').setLevel(logging.WARNING)\n",
    "\n",
    "connection_parameters = {\n",
    "    \"user\": os.environ['SNOWFLAKE_USER'],\n",
    "    \"password\": os.environ['SNOWFLAKE_PASSWORD'],\n",
    "    \"account\": os.environ['SNOWFLAKE_ACCOUNT'],\n",
    "    \"warehouse\": \"DEMO_WH\",\n",
    "    # Database and schema are required to create various temporary objects by tecton\n",
    "    \"database\": \"TECTON\",\n",
    "    \"schema\": \"PUBLIC\",\n",
    "}\n",
    "conn = snowflake.connector.connect(**connection_parameters)\n",
    "tecton.snowflake_context.set_connection(conn) # Tecton will use this Snowflake connection for all interactive queries\n",
    "\n",
    "\n",
    "# Quick helper function to query snowflake from a notebook\n",
    "# Make sure to replace with the appropriate connection details for your own account\n",
    "def query_snowflake(query):\n",
    "    df = conn.cursor().execute(query).fetch_pandas_all()\n",
    "    return df\n",
    "\n",
    "tecton.version.summary()"
   ]
  },
  {
   "cell_type": "markdown",
   "metadata": {},
   "source": [
    "# Generate Training Data with Tecton"
   ]
  },
  {
   "cell_type": "code",
   "execution_count": 2,
   "metadata": {},
   "outputs": [],
   "source": [
    "ws = tecton.get_workspace('apply-2022-demo')\n",
    "fs = ws.get_feature_service('batch_movie_recommendations_feature_service')"
   ]
  },
  {
   "cell_type": "code",
   "execution_count": 3,
   "metadata": {},
   "outputs": [
    {
     "data": {
      "text/html": [
       "<div>\n",
       "<style scoped>\n",
       "    .dataframe tbody tr th:only-of-type {\n",
       "        vertical-align: middle;\n",
       "    }\n",
       "\n",
       "    .dataframe tbody tr th {\n",
       "        vertical-align: top;\n",
       "    }\n",
       "\n",
       "    .dataframe thead th {\n",
       "        text-align: right;\n",
       "    }\n",
       "</style>\n",
       "<table border=\"1\" class=\"dataframe\">\n",
       "  <thead>\n",
       "    <tr style=\"text-align: right;\">\n",
       "      <th></th>\n",
       "      <th>USER_ID</th>\n",
       "      <th>MOVIE_ID</th>\n",
       "      <th>RATING</th>\n",
       "      <th>TIMESTAMP</th>\n",
       "    </tr>\n",
       "  </thead>\n",
       "  <tbody>\n",
       "    <tr>\n",
       "      <th>0</th>\n",
       "      <td>72315</td>\n",
       "      <td>96993</td>\n",
       "      <td>4</td>\n",
       "      <td>2021-08-09 13:50:01.775617</td>\n",
       "    </tr>\n",
       "    <tr>\n",
       "      <th>1</th>\n",
       "      <td>72315</td>\n",
       "      <td>97002</td>\n",
       "      <td>3</td>\n",
       "      <td>2021-02-13 16:11:27.775617</td>\n",
       "    </tr>\n",
       "    <tr>\n",
       "      <th>2</th>\n",
       "      <td>72315</td>\n",
       "      <td>97059</td>\n",
       "      <td>3</td>\n",
       "      <td>2021-02-10 06:42:10.775617</td>\n",
       "    </tr>\n",
       "    <tr>\n",
       "      <th>3</th>\n",
       "      <td>72315</td>\n",
       "      <td>97070</td>\n",
       "      <td>3</td>\n",
       "      <td>2021-02-10 06:41:36.775617</td>\n",
       "    </tr>\n",
       "    <tr>\n",
       "      <th>4</th>\n",
       "      <td>72315</td>\n",
       "      <td>97092</td>\n",
       "      <td>3</td>\n",
       "      <td>2022-03-17 12:20:53.775617</td>\n",
       "    </tr>\n",
       "  </tbody>\n",
       "</table>\n",
       "</div>"
      ],
      "text/plain": [
       "  USER_ID MOVIE_ID  RATING                  TIMESTAMP\n",
       "0   72315    96993       4 2021-08-09 13:50:01.775617\n",
       "1   72315    97002       3 2021-02-13 16:11:27.775617\n",
       "2   72315    97059       3 2021-02-10 06:42:10.775617\n",
       "3   72315    97070       3 2021-02-10 06:41:36.775617\n",
       "4   72315    97092       3 2022-03-17 12:20:53.775617"
      ]
     },
     "execution_count": 3,
     "metadata": {},
     "output_type": "execute_result"
    }
   ],
   "source": [
    "# Preview the data directly\n",
    "ratings_query = \"\"\"\n",
    "SELECT \n",
    "    USER_ID,\n",
    "    MOVIE_ID,\n",
    "    RATING,\n",
    "    TIMESTAMP\n",
    "FROM \n",
    "    DEV_DAVID.MOVIELENS_25M.RATINGS\n",
    "where timestamp between '2020-05-19 00:00:01' and '2022-05-19 23:59:59'\n",
    "\"\"\"\n",
    "ratings = query_snowflake(ratings_query)\n",
    "ratings.head(5)\n"
   ]
  },
  {
   "cell_type": "code",
   "execution_count": 4,
   "metadata": {},
   "outputs": [
    {
     "name": "stdout",
     "output_type": "stream",
     "text": [
      "Size of training data: 2614105\n"
     ]
    }
   ],
   "source": [
    "print(f\"Size of training data: {len(ratings)}\")"
   ]
  },
  {
   "cell_type": "code",
   "execution_count": 5,
   "metadata": {},
   "outputs": [
    {
     "name": "stdout",
     "output_type": "stream",
     "text": [
      "<class 'pandas.core.frame.DataFrame'>\n",
      "RangeIndex: 2614105 entries, 0 to 2614104\n",
      "Data columns (total 41 columns):\n",
      " #   Column                                                Dtype         \n",
      "---  ------                                                -----         \n",
      " 0   MOVIE_ID                                              object        \n",
      " 1   USER_ID                                               object        \n",
      " 2   TIMESTAMP                                             datetime64[ns]\n",
      " 3   RATING                                                int8          \n",
      " 4   MOVIE_GENRE_INFO__IS_ACTION                           int8          \n",
      " 5   MOVIE_GENRE_INFO__IS_ANIMATION                        int8          \n",
      " 6   MOVIE_GENRE_INFO__IS_ADVENTURE                        int8          \n",
      " 7   MOVIE_GENRE_INFO__IS_CHILDREN                         int8          \n",
      " 8   MOVIE_GENRE_INFO__IS_COMEDY                           int8          \n",
      " 9   MOVIE_GENRE_INFO__IS_CRIME                            int8          \n",
      " 10  MOVIE_GENRE_INFO__IS_DOCUMENTARY                      int8          \n",
      " 11  MOVIE_GENRE_INFO__IS_DRAMA                            int8          \n",
      " 12  MOVIE_GENRE_INFO__IS_FANTASY                          int8          \n",
      " 13  MOVIE_GENRE_INFO__IS_FILM_NOIR                        int8          \n",
      " 14  MOVIE_GENRE_INFO__IS_HORROR                           int8          \n",
      " 15  MOVIE_GENRE_INFO__IS_MUSICAL                          int8          \n",
      " 16  MOVIE_GENRE_INFO__IS_MYSTERY                          int8          \n",
      " 17  MOVIE_GENRE_INFO__IS_ROMANCE                          int8          \n",
      " 18  MOVIE_GENRE_INFO__IS_SCIFI                            int8          \n",
      " 19  MOVIE_GENRE_INFO__IS_THRILLER                         int8          \n",
      " 20  MOVIE_GENRE_INFO__IS_WAR                              int8          \n",
      " 21  MOVIE_GENRE_INFO__IS_WESTERN                          int8          \n",
      " 22  MOVIE_RELEASE_YEAR__YEAR                              int16         \n",
      " 23  USER_ACTION_RATING_HISTORY__RATING_MEAN_730D_1D       object        \n",
      " 24  USER_ADVENTURE_RATING_HISTORY__RATING_MEAN_730D_1D    object        \n",
      " 25  USER_ANIMATION_RATING_HISTORY__RATING_MEAN_730D_1D    object        \n",
      " 26  USER_CHILDREN_RATING_HISTORY__RATING_MEAN_730D_1D     object        \n",
      " 27  USER_COMEDY_RATING_HISTORY__RATING_MEAN_730D_1D       object        \n",
      " 28  USER_CRIME_RATING_HISTORY__RATING_MEAN_730D_1D        object        \n",
      " 29  USER_DOCUMENTARY_RATING_HISTORY__RATING_MEAN_730D_1D  object        \n",
      " 30  USER_DRAMA_RATING_HISTORY__RATING_MEAN_730D_1D        object        \n",
      " 31  USER_FANTASY_RATING_HISTORY__RATING_MEAN_730D_1D      object        \n",
      " 32  USER_FILM_NOIR_RATING_HISTORY__RATING_MEAN_730D_1D    object        \n",
      " 33  USER_HORROR_RATING_HISTORY__RATING_MEAN_730D_1D       object        \n",
      " 34  USER_MUSICAL_RATING_HISTORY__RATING_MEAN_730D_1D      object        \n",
      " 35  USER_MYSTERY_RATING_HISTORY__RATING_MEAN_730D_1D      object        \n",
      " 36  USER_ROMANCE_RATING_HISTORY__RATING_MEAN_730D_1D      object        \n",
      " 37  USER_SCI_FI_RATING_HISTORY__RATING_MEAN_730D_1D       object        \n",
      " 38  USER_THRILLER_RATING_HISTORY__RATING_MEAN_730D_1D     object        \n",
      " 39  USER_WAR_RATING_HISTORY__RATING_MEAN_730D_1D          object        \n",
      " 40  USER_WESTERN_RATING_HISTORY__RATING_MEAN_730D_1D      object        \n",
      "dtypes: datetime64[ns](1), int16(1), int8(19), object(20)\n",
      "memory usage: 471.2+ MB\n"
     ]
    }
   ],
   "source": [
    "training_data = fs.get_historical_features(spine=ratings_query, timestamp_key=\"TIMESTAMP\").to_pandas()\n",
    "training_data.info()"
   ]
  },
  {
   "cell_type": "markdown",
   "metadata": {},
   "source": [
    "# Train TabNet\n",
    "\n",
    "TabNet is a deep learning architecture built to perform on tabular datasets. [Paper here](https://arxiv.org/abs/1908.07442) and [PySpark implementation here](https://github.com/dreamquark-ai/tabnet)"
   ]
  },
  {
   "cell_type": "code",
   "execution_count": null,
   "metadata": {},
   "outputs": [],
   "source": [
    "import pickle\n",
    "import pandas as pd\n",
    "import numpy as np\n",
    "from sklearn.model_selection import train_test_split\n",
    "from pytorch_tabnet.tab_model import TabNetRegressor\n",
    "from sklearn.preprocessing import LabelEncoder"
   ]
  },
  {
   "cell_type": "code",
   "execution_count": null,
   "metadata": {},
   "outputs": [],
   "source": [
    "training_data = pd.read_parquet('training_data/movielens_25m_5_5.parquet').fillna(-1.)\n"
   ]
  },
  {
   "cell_type": "code",
   "execution_count": null,
   "metadata": {},
   "outputs": [],
   "source": [
    "for col in training_data.columns:\n",
    "    if \"RATING_HISTORY\" in col:\n",
    "        training_data[col] = training_data[col].astype('float64')\n",
    "training_data.info()"
   ]
  },
  {
   "cell_type": "code",
   "execution_count": null,
   "metadata": {},
   "outputs": [],
   "source": [
    "from preprocess import preprocess_for_tabnet\n",
    "x, y, categorical_columns, categorical_dims = preprocess_for_tabnet(training_data, train=True)"
   ]
  },
  {
   "cell_type": "code",
   "execution_count": null,
   "metadata": {},
   "outputs": [],
   "source": [
    "X_train, X_test, y_train, y_test = train_test_split(x, y)\n",
    "X_train = X_train.values\n",
    "X_test = X_test.values\n",
    "\n",
    "y_train = y_train.values.reshape(-1, 1)\n",
    "y_test = y_test.values.reshape(-1, 1)"
   ]
  },
  {
   "cell_type": "code",
   "execution_count": null,
   "metadata": {},
   "outputs": [],
   "source": [
    "features = [ col for col in x.columns] \n",
    "cat_idxs = [i for i, f in enumerate(features) if f in categorical_columns]\n",
    "cat_dims = [ categorical_dims[f] for f in features if f in categorical_columns]\n",
    "\n",
    "# define your embedding sizes : here just a random choice\n",
    "embedding_sizes = {\n",
    "    \"USER_ID\": 64,\n",
    "    \"MOVIE_ID\": 64,\n",
    "}\n",
    "cat_emb_dim = [embedding_sizes[f] for f in features if f in categorical_columns]"
   ]
  },
  {
   "cell_type": "code",
   "execution_count": null,
   "metadata": {},
   "outputs": [],
   "source": [
    "clf = TabNetRegressor(\n",
    "    cat_dims=cat_dims, \n",
    "    cat_emb_dim=cat_emb_dim, \n",
    "    cat_idxs=cat_idxs,\n",
    "    n_steps=2,\n",
    "    gamma=1.5\n",
    ")"
   ]
  },
  {
   "cell_type": "code",
   "execution_count": null,
   "metadata": {},
   "outputs": [],
   "source": [
    "clf.fit(\n",
    "    X_train=X_train, y_train=y_train,\n",
    "    eval_set=[(X_train, y_train), (X_test, y_test)],\n",
    "    eval_name=['train', 'test'],\n",
    "    eval_metric=['rmsle', 'mae', 'rmse', 'mse'],\n",
    "    max_epochs=10,\n",
    "    patience=10,\n",
    "    batch_size=1024, virtual_batch_size=64,\n",
    "    num_workers=0,\n",
    "    drop_last=False,\n",
    ") \n"
   ]
  },
  {
   "cell_type": "code",
   "execution_count": null,
   "metadata": {},
   "outputs": [],
   "source": [
    "# save tabnet model\n",
    "model_output_path = \"models/batch_movie_recommender_5_9/batch_movie_recommender_5_9\"\n",
    "saved_path = clf.save_model(model_output_path)\n",
    "pickle.dump(features, open('models/batch_movie_recommender_5_9/schema.p','wb'))"
   ]
  },
  {
   "cell_type": "code",
   "execution_count": null,
   "metadata": {},
   "outputs": [],
   "source": [
    "features_and_importances = sorted([ (features[i], importance) for i, importance in  enumerate(clf.feature_importances_)], key=lambda x: x[1], reverse=True)\n",
    "features_and_importances"
   ]
  },
  {
   "cell_type": "code",
   "execution_count": null,
   "metadata": {},
   "outputs": [],
   "source": [
    "pickle.dump(features_and_importances, open('feature_importances.p', 'wb'))"
   ]
  },
  {
   "cell_type": "code",
   "execution_count": null,
   "metadata": {},
   "outputs": [],
   "source": []
  }
 ],
 "metadata": {
  "kernelspec": {
   "display_name": "apply-2022-demo",
   "language": "python",
   "name": "apply-demo-2022"
  },
  "language_info": {
   "codemirror_mode": {
    "name": "ipython",
    "version": 3
   },
   "file_extension": ".py",
   "mimetype": "text/x-python",
   "name": "python",
   "nbconvert_exporter": "python",
   "pygments_lexer": "ipython3",
   "version": "3.8.10"
  }
 },
 "nbformat": 4,
 "nbformat_minor": 4
}
